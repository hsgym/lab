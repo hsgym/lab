{
 "cells": [
  {
   "cell_type": "markdown",
   "id": "877768de-5b86-40ae-96d4-efa907954994",
   "metadata": {},
   "source": [
    "# MRESCOPE Sample Data"
   ]
  },
  {
   "cell_type": "code",
   "execution_count": 1,
   "id": "1e26a288-8c7c-4204-bad3-fe81eef250e7",
   "metadata": {},
   "outputs": [],
   "source": [
    "from package.subset_creator_merscope import MerscopeSubsetCreator\n",
    "from package.viewer_merscope import MerscopeViewer"
   ]
  },
  {
   "cell_type": "code",
   "execution_count": 3,
   "id": "45be7c5e-f63f-4a17-8139-a60d61349a84",
   "metadata": {},
   "outputs": [],
   "source": [
    "input_dir = \"/work/datasets/Liver\"\n",
    "output_dir = \"/work/github/output_sample_liver\"\n",
    "\n",
    "# subset分割\n",
    "fov = 100\n",
    "width = 2048\n",
    "height = 2048\n",
    "image_keyword = [\"DAPI\", \"z3\"]"
   ]
  },
  {
   "cell_type": "code",
   "execution_count": null,
   "id": "7232ffcb-2484-4879-857d-2f58922ef551",
   "metadata": {},
   "outputs": [],
   "source": [
    "subset = MerscopeSubsetCreator(input_dir, output_dir, fov, width, height, image_keyword)\n",
    "subset.create_subset()"
   ]
  },
  {
   "cell_type": "code",
   "execution_count": null,
   "id": "64a6eb39-1c57-4c4b-b141-286311a6d7e9",
   "metadata": {},
   "outputs": [],
   "source": [
    "\n",
    "\n",
    "viewer = MerscopeViewer(input_dir, output_dir, fov, width, height)\n",
    "title = \"default\"\n",
    "viewer.view_area(title, True, True, [\"DAPI\",\"z3\"])"
   ]
  },
  {
   "cell_type": "code",
   "execution_count": null,
   "id": "06dc28da-e0cb-41f9-bc16-1797e0b0bc8f",
   "metadata": {},
   "outputs": [],
   "source": []
  }
 ],
 "metadata": {
  "kernelspec": {
   "display_name": "Python 3 (ipykernel)",
   "language": "python",
   "name": "python3"
  },
  "language_info": {
   "codemirror_mode": {
    "name": "ipython",
    "version": 3
   },
   "file_extension": ".py",
   "mimetype": "text/x-python",
   "name": "python",
   "nbconvert_exporter": "python",
   "pygments_lexer": "ipython3",
   "version": "3.8.19"
  }
 },
 "nbformat": 4,
 "nbformat_minor": 5
}
